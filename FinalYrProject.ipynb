{
  "nbformat": 4,
  "nbformat_minor": 0,
  "metadata": {
    "colab": {
      "name": "FinalYrProject.ipynb",
      "provenance": [],
      "collapsed_sections": []
    },
    "kernelspec": {
      "name": "python3",
      "display_name": "Python 3"
    },
    "accelerator": "GPU"
  },
  "cells": [
    {
      "cell_type": "code",
      "metadata": {
        "id": "bixBfzSQ6Lxo",
        "colab_type": "code",
        "colab": {}
      },
      "source": [
        ""
      ],
      "execution_count": 0,
      "outputs": []
    },
    {
      "cell_type": "code",
      "metadata": {
        "id": "LV_cdJxyVCWz",
        "colab_type": "code",
        "colab": {}
      },
      "source": [
        ""
      ],
      "execution_count": 0,
      "outputs": []
    },
    {
      "cell_type": "markdown",
      "metadata": {
        "id": "Pb0jfu_YL7EK",
        "colab_type": "text"
      },
      "source": [
        "Welcome !"
      ]
    },
    {
      "cell_type": "code",
      "metadata": {
        "id": "ZTdatI26_BJK",
        "colab_type": "code",
        "outputId": "eeb9f1ce-43c1-4b10-9315-eb7c52cd490c",
        "colab": {
          "base_uri": "https://localhost:8080/",
          "height": 85
        }
      },
      "source": [
        "import numpy as np\n",
        "import matplotlib.pyplot as plt\n",
        "import matplotlib.image as npimg\n",
        "import os\n",
        "\n",
        "## Keras\n",
        "import keras\n",
        "from keras.models import Sequential\n",
        "from keras.optimizers import Adam\n",
        "from keras.layers import Convolution2D, MaxPooling2D, Dropout, Flatten, Dense\n",
        "\n",
        "import cv2\n",
        "import pandas as pd\n",
        "import random\n",
        "import ntpath\n",
        "\n",
        "## Sklearn\n",
        "from sklearn.utils import shuffle\n",
        "from sklearn.model_selection import train_test_split\n",
        "\n",
        "# Torch and Cuda\n",
        "import torch\n",
        "print(\" GPU is available :\")\n",
        "print(torch.cuda.is_available())\n",
        "print(\" Name of allocated GPU :\")\n",
        "torch.cuda.get_device_name(0)"
      ],
      "execution_count": 0,
      "outputs": [
        {
          "output_type": "stream",
          "text": [
            " GPU is available :\n",
            "True\n",
            " Name of allocated GPU :\n"
          ],
          "name": "stdout"
        },
        {
          "output_type": "execute_result",
          "data": {
            "text/plain": [
              "'Tesla T4'"
            ]
          },
          "metadata": {
            "tags": []
          },
          "execution_count": 6
        }
      ]
    },
    {
      "cell_type": "markdown",
      "metadata": {
        "id": "ucQHyGVGUVF_",
        "colab_type": "text"
      },
      "source": [
        "## Reading Data \n"
      ]
    },
    {
      "cell_type": "code",
      "metadata": {
        "id": "-s7hvreVaudM",
        "colab_type": "code",
        "colab": {}
      },
      "source": [
        "from google.colab import drive\n",
        "drive.mount('/content/drive')"
      ],
      "execution_count": 0,
      "outputs": []
    },
    {
      "cell_type": "code",
      "metadata": {
        "id": "2fKUuprZTpRk",
        "colab_type": "code",
        "outputId": "7df6c444-2d91-4372-d239-5c44fea64fea",
        "colab": {
          "base_uri": "https://localhost:8080/",
          "height": 224
        }
      },
      "source": [
        "#/driving_log.csv\n",
        "columns = ['center', 'left', 'right', 'steering_angle', 'throttle', 'reverse', 'speed']\n",
        "data = pd.read_csv( '/driving_log.csv', names = columns)\n",
        "data.head()"
      ],
      "execution_count": 0,
      "outputs": [
        {
          "output_type": "execute_result",
          "data": {
            "text/html": [
              "<div>\n",
              "<style scoped>\n",
              "    .dataframe tbody tr th:only-of-type {\n",
              "        vertical-align: middle;\n",
              "    }\n",
              "\n",
              "    .dataframe tbody tr th {\n",
              "        vertical-align: top;\n",
              "    }\n",
              "\n",
              "    .dataframe thead th {\n",
              "        text-align: right;\n",
              "    }\n",
              "</style>\n",
              "<table border=\"1\" class=\"dataframe\">\n",
              "  <thead>\n",
              "    <tr style=\"text-align: right;\">\n",
              "      <th></th>\n",
              "      <th>center</th>\n",
              "      <th>left</th>\n",
              "      <th>right</th>\n",
              "      <th>steering_angle</th>\n",
              "      <th>throttle</th>\n",
              "      <th>reverse</th>\n",
              "      <th>speed</th>\n",
              "    </tr>\n",
              "  </thead>\n",
              "  <tbody>\n",
              "    <tr>\n",
              "      <th>0</th>\n",
              "      <td>C:\\Users\\ADMIN\\Desktop\\IMG\\IMG\\center_2020_03_...</td>\n",
              "      <td>C:\\Users\\ADMIN\\Desktop\\IMG\\IMG\\left_2020_03_20...</td>\n",
              "      <td>C:\\Users\\ADMIN\\Desktop\\IMG\\IMG\\right_2020_03_2...</td>\n",
              "      <td>0.0</td>\n",
              "      <td>0.0</td>\n",
              "      <td>0.0</td>\n",
              "      <td>9.494225</td>\n",
              "    </tr>\n",
              "    <tr>\n",
              "      <th>1</th>\n",
              "      <td>C:\\Users\\ADMIN\\Desktop\\IMG\\IMG\\center_2020_03_...</td>\n",
              "      <td>C:\\Users\\ADMIN\\Desktop\\IMG\\IMG\\left_2020_03_20...</td>\n",
              "      <td>C:\\Users\\ADMIN\\Desktop\\IMG\\IMG\\right_2020_03_2...</td>\n",
              "      <td>0.0</td>\n",
              "      <td>0.0</td>\n",
              "      <td>0.0</td>\n",
              "      <td>9.363687</td>\n",
              "    </tr>\n",
              "    <tr>\n",
              "      <th>2</th>\n",
              "      <td>C:\\Users\\ADMIN\\Desktop\\IMG\\IMG\\center_2020_03_...</td>\n",
              "      <td>C:\\Users\\ADMIN\\Desktop\\IMG\\IMG\\left_2020_03_20...</td>\n",
              "      <td>C:\\Users\\ADMIN\\Desktop\\IMG\\IMG\\right_2020_03_2...</td>\n",
              "      <td>0.0</td>\n",
              "      <td>0.0</td>\n",
              "      <td>0.0</td>\n",
              "      <td>9.253245</td>\n",
              "    </tr>\n",
              "    <tr>\n",
              "      <th>3</th>\n",
              "      <td>C:\\Users\\ADMIN\\Desktop\\IMG\\IMG\\center_2020_03_...</td>\n",
              "      <td>C:\\Users\\ADMIN\\Desktop\\IMG\\IMG\\left_2020_03_20...</td>\n",
              "      <td>C:\\Users\\ADMIN\\Desktop\\IMG\\IMG\\right_2020_03_2...</td>\n",
              "      <td>0.0</td>\n",
              "      <td>0.0</td>\n",
              "      <td>0.0</td>\n",
              "      <td>9.144506</td>\n",
              "    </tr>\n",
              "    <tr>\n",
              "      <th>4</th>\n",
              "      <td>C:\\Users\\ADMIN\\Desktop\\IMG\\IMG\\center_2020_03_...</td>\n",
              "      <td>C:\\Users\\ADMIN\\Desktop\\IMG\\IMG\\left_2020_03_20...</td>\n",
              "      <td>C:\\Users\\ADMIN\\Desktop\\IMG\\IMG\\right_2020_03_2...</td>\n",
              "      <td>0.0</td>\n",
              "      <td>0.0</td>\n",
              "      <td>0.0</td>\n",
              "      <td>9.037059</td>\n",
              "    </tr>\n",
              "  </tbody>\n",
              "</table>\n",
              "</div>"
            ],
            "text/plain": [
              "                                              center  ...     speed\n",
              "0  C:\\Users\\ADMIN\\Desktop\\IMG\\IMG\\center_2020_03_...  ...  9.494225\n",
              "1  C:\\Users\\ADMIN\\Desktop\\IMG\\IMG\\center_2020_03_...  ...  9.363687\n",
              "2  C:\\Users\\ADMIN\\Desktop\\IMG\\IMG\\center_2020_03_...  ...  9.253245\n",
              "3  C:\\Users\\ADMIN\\Desktop\\IMG\\IMG\\center_2020_03_...  ...  9.144506\n",
              "4  C:\\Users\\ADMIN\\Desktop\\IMG\\IMG\\center_2020_03_...  ...  9.037059\n",
              "\n",
              "[5 rows x 7 columns]"
            ]
          },
          "metadata": {
            "tags": []
          },
          "execution_count": 8
        }
      ]
    },
    {
      "cell_type": "code",
      "metadata": {
        "id": "WOdE7iDKYTKr",
        "colab_type": "code",
        "outputId": "59b054a8-c778-47c3-9bb9-ed4ffa32b1fd",
        "colab": {
          "base_uri": "https://localhost:8080/",
          "height": 224
        }
      },
      "source": [
        "def path_leaf(path):\n",
        "  head, tail = ntpath.split(path)\n",
        "  return tail\n",
        "\n",
        "data['center'] = data['center'].apply(path_leaf)\n",
        "data['left'] = data['left'].apply(path_leaf)\n",
        "data['right'] = data['right'].apply(path_leaf)\n",
        "data.head()"
      ],
      "execution_count": 0,
      "outputs": [
        {
          "output_type": "execute_result",
          "data": {
            "text/html": [
              "<div>\n",
              "<style scoped>\n",
              "    .dataframe tbody tr th:only-of-type {\n",
              "        vertical-align: middle;\n",
              "    }\n",
              "\n",
              "    .dataframe tbody tr th {\n",
              "        vertical-align: top;\n",
              "    }\n",
              "\n",
              "    .dataframe thead th {\n",
              "        text-align: right;\n",
              "    }\n",
              "</style>\n",
              "<table border=\"1\" class=\"dataframe\">\n",
              "  <thead>\n",
              "    <tr style=\"text-align: right;\">\n",
              "      <th></th>\n",
              "      <th>center</th>\n",
              "      <th>left</th>\n",
              "      <th>right</th>\n",
              "      <th>steering_angle</th>\n",
              "      <th>throttle</th>\n",
              "      <th>reverse</th>\n",
              "      <th>speed</th>\n",
              "    </tr>\n",
              "  </thead>\n",
              "  <tbody>\n",
              "    <tr>\n",
              "      <th>0</th>\n",
              "      <td>center_2020_03_20_10_32_30_381.jpg</td>\n",
              "      <td>left_2020_03_20_10_32_30_381.jpg</td>\n",
              "      <td>right_2020_03_20_10_32_30_381.jpg</td>\n",
              "      <td>0.0</td>\n",
              "      <td>0.0</td>\n",
              "      <td>0.0</td>\n",
              "      <td>9.494225</td>\n",
              "    </tr>\n",
              "    <tr>\n",
              "      <th>1</th>\n",
              "      <td>center_2020_03_20_10_32_30_504.jpg</td>\n",
              "      <td>left_2020_03_20_10_32_30_504.jpg</td>\n",
              "      <td>right_2020_03_20_10_32_30_504.jpg</td>\n",
              "      <td>0.0</td>\n",
              "      <td>0.0</td>\n",
              "      <td>0.0</td>\n",
              "      <td>9.363687</td>\n",
              "    </tr>\n",
              "    <tr>\n",
              "      <th>2</th>\n",
              "      <td>center_2020_03_20_10_32_30_626.jpg</td>\n",
              "      <td>left_2020_03_20_10_32_30_626.jpg</td>\n",
              "      <td>right_2020_03_20_10_32_30_626.jpg</td>\n",
              "      <td>0.0</td>\n",
              "      <td>0.0</td>\n",
              "      <td>0.0</td>\n",
              "      <td>9.253245</td>\n",
              "    </tr>\n",
              "    <tr>\n",
              "      <th>3</th>\n",
              "      <td>center_2020_03_20_10_32_30_750.jpg</td>\n",
              "      <td>left_2020_03_20_10_32_30_750.jpg</td>\n",
              "      <td>right_2020_03_20_10_32_30_750.jpg</td>\n",
              "      <td>0.0</td>\n",
              "      <td>0.0</td>\n",
              "      <td>0.0</td>\n",
              "      <td>9.144506</td>\n",
              "    </tr>\n",
              "    <tr>\n",
              "      <th>4</th>\n",
              "      <td>center_2020_03_20_10_32_30_875.jpg</td>\n",
              "      <td>left_2020_03_20_10_32_30_875.jpg</td>\n",
              "      <td>right_2020_03_20_10_32_30_875.jpg</td>\n",
              "      <td>0.0</td>\n",
              "      <td>0.0</td>\n",
              "      <td>0.0</td>\n",
              "      <td>9.037059</td>\n",
              "    </tr>\n",
              "  </tbody>\n",
              "</table>\n",
              "</div>"
            ],
            "text/plain": [
              "                               center  ...     speed\n",
              "0  center_2020_03_20_10_32_30_381.jpg  ...  9.494225\n",
              "1  center_2020_03_20_10_32_30_504.jpg  ...  9.363687\n",
              "2  center_2020_03_20_10_32_30_626.jpg  ...  9.253245\n",
              "3  center_2020_03_20_10_32_30_750.jpg  ...  9.144506\n",
              "4  center_2020_03_20_10_32_30_875.jpg  ...  9.037059\n",
              "\n",
              "[5 rows x 7 columns]"
            ]
          },
          "metadata": {
            "tags": []
          },
          "execution_count": 9
        }
      ]
    },
    {
      "cell_type": "code",
      "metadata": {
        "id": "l22jBhZufz3H",
        "colab_type": "code",
        "colab": {
          "base_uri": "https://localhost:8080/",
          "height": 297
        },
        "outputId": "984fe088-fddf-4e46-f95e-ddbc02df6a32"
      },
      "source": [
        "import seaborn as sns\n",
        "vplot = sns.violinplot(x=data['steering_angle'])\n",
        "vplot\n"
      ],
      "execution_count": 13,
      "outputs": [
        {
          "output_type": "execute_result",
          "data": {
            "text/plain": [
              "<matplotlib.axes._subplots.AxesSubplot at 0x7fe904bca0b8>"
            ]
          },
          "metadata": {
            "tags": []
          },
          "execution_count": 13
        },
        {
          "output_type": "display_data",
          "data": {
            "image/png": "[encoded data removed]",
            "text/plain": [
              "<Figure size 432x288 with 1 Axes>"
            ]
          },
          "metadata": {
            "tags": []
          }
        }
      ]
    }
  ]
}